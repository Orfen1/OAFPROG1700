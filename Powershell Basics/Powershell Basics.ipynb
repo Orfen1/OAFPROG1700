{
 "cells": [
  {
   "cell_type": "code",
   "execution_count": 14,
   "id": "ba4b7d83",
   "metadata": {
    "dotnet_interactive": {
     "language": "powershell"
    },
    "polyglot_notebook": {
     "kernelName": "powershell"
    },
    "vscode": {
     "languageId": "polyglot-notebook"
    }
   },
   "outputs": [
    {
     "name": "stdout",
     "output_type": "stream",
     "text": [
      "Hello World\r\n"
     ]
    }
   ],
   "source": [
    "# This is my first PowerShell command\n",
    "Write-host \"Hello World\""
   ]
  },
  {
   "cell_type": "code",
   "execution_count": 15,
   "id": "78009788",
   "metadata": {
    "dotnet_interactive": {
     "language": "powershell"
    },
    "polyglot_notebook": {
     "kernelName": "powershell"
    },
    "vscode": {
     "languageId": "polyglot-notebook"
    }
   },
   "outputs": [
    {
     "name": "stdout",
     "output_type": "stream",
     "text": [
      "My second PowerShell statement!\r\n"
     ]
    }
   ],
   "source": [
    "Write-Host \"My second PowerShell statement!\""
   ]
  }
 ],
 "metadata": {
  "kernelspec": {
   "display_name": ".NET (PowerShell)",
   "language": "PowerShell",
   "name": ".net-powershell"
  },
  "language_info": {
   "file_extension": ".ps1",
   "mimetype": "text/x-powershell",
   "name": "PowerShell",
   "pygments_lexer": "powershell",
   "version": "7.0"
  }
 },
 "nbformat": 4,
 "nbformat_minor": 5
}
