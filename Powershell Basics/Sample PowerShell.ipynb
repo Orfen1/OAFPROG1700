{
 "cells": [
  {
   "cell_type": "code",
   "execution_count": 2,
   "metadata": {
    "dotnet_interactive": {
     "language": "powershell"
    },
    "polyglot_notebook": {
     "kernelName": "powershell"
    },
    "vscode": {
     "languageId": "polyglot-notebook"
    }
   },
   "outputs": [
    {
     "name": "stdout",
     "output_type": "stream",
     "text": [
      "Hello-Again\n",
      "once-again\n"
     ]
    }
   ],
   "source": [
    "Write-Host \"Hello-Again\"\n",
    "Write-Host \"once-again\"\n",
    "\n",
    "\n"
   ]
  },
  {
   "cell_type": "code",
   "execution_count": 1,
   "metadata": {
    "dotnet_interactive": {
     "language": "powershell"
    },
    "polyglot_notebook": {
     "kernelName": "powershell"
    },
    "vscode": {
     "languageId": "polyglot-notebook"
    }
   },
   "outputs": [
    {
     "name": "stdout",
     "output_type": "stream",
     "text": [
      "What? More changes?\r\n"
     ]
    }
   ],
   "source": [
    "Write-Host \"What? More changes?\"\n"
   ]
  }
 ],
 "metadata": {
  "kernelspec": {
   "display_name": ".NET (PowerShell)",
   "language": "PowerShell",
   "name": ".net-powershell"
  },
  "language_info": {
   "file_extension": ".ps1",
   "mimetype": "text/x-powershell",
   "name": "PowerShell",
   "pygments_lexer": "powershell",
   "version": "7.0"
  },
  "polyglot_notebook": {
   "kernelInfo": {
    "defaultKernelName": "powershell",
    "items": [
     {
      "aliases": [],
      "name": "powershell"
     }
    ]
   }
  }
 },
 "nbformat": 4,
 "nbformat_minor": 2
}
