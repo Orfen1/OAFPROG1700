{
 "cells": [
  {
   "cell_type": "code",
   "execution_count": null,
   "metadata": {
    "dotnet_interactive": {
     "language": "pwsh"
    },
    "polyglot_notebook": {
     "kernelName": "pwsh"
    },
    "vscode": {
     "languageId": "polyglot-notebook"
    }
   },
   "outputs": [],
   "source": [
    "# store contents in a file\n",
    "$contents = Get-Content .\\test.txt\n",
    "Cat .\\test.txt\n",
    "type .\\test.txt\n",
    "${<C:\\Users\\W0400330\\desktop\\test.txt>}"
   ]
  },
  {
   "cell_type": "code",
   "execution_count": 1,
   "metadata": {
    "dotnet_interactive": {
     "language": "pwsh"
    },
    "polyglot_notebook": {
     "kernelName": "pwsh"
    },
    "vscode": {
     "languageId": "polyglot-notebook"
    }
   },
   "outputs": [
    {
     "name": "stdout",
     "output_type": "stream",
     "text": [
      "\u001b[31;1m*.txt: \u001b[0m\n",
      "\u001b[31;1m\u001b[36;1mLine |\u001b[0m\n",
      "\u001b[31;1m\u001b[36;1m\u001b[36;1m   2 | \u001b[0m Get-ChildItem -Name | \u001b[36;1m*.txt\u001b[0m | Out-File \"Out.txt\"\u001b[0m\n",
      "\u001b[31;1m\u001b[36;1m\u001b[36;1m\u001b[0m\u001b[36;1m\u001b[0m\u001b[36;1m     | \u001b[31;1m                       ~~~~~\u001b[0m\n",
      "\u001b[31;1m\u001b[36;1m\u001b[36;1m\u001b[0m\u001b[36;1m\u001b[0m\u001b[36;1m\u001b[31;1m\u001b[31;1m\u001b[36;1m     | \u001b[31;1mThe term '*.txt' is not recognized as a name of a cmdlet, function, script file, or executable program.\u001b[0m\n",
      "\u001b[31;1m\u001b[36;1m\u001b[36;1m\u001b[0m\u001b[36;1m\u001b[0m\u001b[36;1m\u001b[31;1m\u001b[31;1m\u001b[36;1m\u001b[31;1mCheck the spelling of the name, or if a path was included, verify that the path is correct and try again.\u001b[0m\n"
     ]
    }
   ],
   "source": [
    "# Using pipeline\n",
    "Get-ChildItem -Name | *.txt | Out-File \"Out.txt\"\n",
    "\"tour\" |  Out-File \"Out.txt\"\n",
    "\"tour\" > \"Out.txt\"\n",
    "\"professor\" >> \"Out.txt\"\n",
    "# Writing to clipboard\n",
    "Get-Content .\\text.txt | Set-Clipboard"
   ]
  },
  {
   "cell_type": "code",
   "execution_count": 4,
   "metadata": {
    "dotnet_interactive": {
     "language": "pwsh"
    },
    "polyglot_notebook": {
     "kernelName": "pwsh"
    },
    "vscode": {
     "languageId": "polyglot-notebook"
    }
   },
   "outputs": [
    {
     "name": "stdout",
     "output_type": "stream",
     "text": [
      "filename: Otto the Robot\n",
      "filename: 1.0.5-packet-tracer---logical-and-physical-mode-exploration.pka\n",
      "filename: 1.5.7-packet-tracer---network-representation.pka\n",
      "filename: 11.5.5-packet-tracer---subnet-an-ipv4-network.pka\n",
      "filename: 14.8.1-packet-tracer---tcp-and-udp-communications.pka\n",
      "filename: 2.3.7-packet-tracer---navigate-the-ios.pka\n",
      "filename: 2.3.8-packet-tracer---navigate-the-ios-using-a-terminal-client-for-console-connectivity---physical-mode.pka\n",
      "filename: 2.5.5-packet-tracer---configure-initial-switch-settings.pka\n",
      "filename: 2.7.6-packet-tracer---implement-basic-connectivity Complete.pka\n",
      "filename: 2.7.6-packet-tracer---implement-basic-connectivity.pka\n",
      "filename: 2.8.1-video-activity---test-the-interface-assignment.pkt\n",
      "filename: 2.9.1-packet-tracer---basic-switch-and-end-device-configuration (1).pka\n",
      "filename: 2.9.1-packet-tracer---basic-switch-and-end-device-configuration.pka\n",
      "filename: 2.9.2-packet-tracer---basic-switch-and-end-device-configuration---physical-mode Complete.pka\n",
      "filename: 2.9.2-packet-tracer---basic-switch-and-end-device-configuration---physical-mode.pka\n",
      "filename: 3.5.5-packet-tracer---investigate-the-tcp-ip-and-osi-models-in-action.pka\n",
      "filename: 4.6.5-packet-tracer---connect-a-wired-and-wireless-lan.pka\n",
      "filename: 4.7.1-packet-tracer---connect-the-physical-layer.pka\n",
      "filename: about_lab (1).zip\n",
      "filename: about_lab.zip\n",
      "filename: Apple-Assg-Images.zip\n",
      "filename: BPMNsymbols.PNG\n",
      "filename: BPMsymbols.drawio\n",
      "filename: createmary.sql\n",
      "filename: Data Assignment.drawio\n",
      "filename: Data Assignment.png\n",
      "filename: DB 1007 Assignment 2.docx\n",
      "filename: dentist (1).drawio\n",
      "filename: dentist (2) (1).drawio\n",
      "filename: dentist (2).drawio\n",
      "filename: dentist (3).drawio\n",
      "filename: dentist (4).drawio\n",
      "filename: dentist (5).drawio\n",
      "filename: dentist (6).drawio\n",
      "filename: dentist.drawio\n",
      "filename: dotnet-sdk-7.0.402-win-x64.exe\n",
      "filename: en-us_windows_10_consumer_editions_version_22h2_x64_dvd_8da72ab3.iso\n",
      "filename: example.drawio\n",
      "filename: Example.png\n",
      "filename: filenames.txt\n",
      "filename: IP To Decimal To Hex with Subnet mask info.xlsx\n",
      "filename: Kennel_Data (1).drawio\n",
      "filename: Kennel_Data (2).drawio\n",
      "filename: Kennel_Data_FINAL (1).jpg\n",
      "filename: Kennel_Data_FINAL (2).jpg\n",
      "filename: Kennel_Data_FINAL.drawio\n",
      "filename: Kennel_Data_FINAL.jpg\n",
      "filename: Kennel_Data.drawio\n",
      "filename: Knives.jpg\n",
      "filename: Logo.png\n",
      "filename: networkAccess.accdb\n",
      "filename: NT-Bones.html\n",
      "filename: NT-Bones.html.zip\n",
      "filename: OracleXE213_Win64.zip\n",
      "filename: Out.txt\n",
      "filename: Packet Tracer Assignment 4.6.5.docx\n",
      "filename: ttugqk3oietgy7p4yu8n.jpeg\n",
      "filename: Untitled_Artwork.jpg\n",
      "filename: VMware-workstation-full-17.0.0-20800274.exe\n",
      "filename: VSCodeUserSetup-x64-1.82.2.exe\n",
      "filename: WEBD10003458Website Development(B)Sawler,Nicole - 10312023 - 1127 AM.zip\n",
      "filename: WEBD10003458Website Development(B)Sawler,Nicole - 11162023 - 1039 AM.zip\n"
     ]
    }
   ],
   "source": [
    "# store list of filenames into filenames.text\n",
    "(Get-ChildItem -Name | Out-File \"filenames.txt\")\n",
    "foreach ($filename in (Get-Content \".\\filenames.txt\")) {\n",
    "    \"filename: $filename\"\n",
    "}"
   ]
  },
  {
   "cell_type": "code",
   "execution_count": 6,
   "metadata": {
    "dotnet_interactive": {
     "language": "pwsh"
    },
    "polyglot_notebook": {
     "kernelName": "pwsh"
    },
    "vscode": {
     "languageId": "polyglot-notebook"
    }
   },
   "outputs": [
    {
     "name": "stdout",
     "output_type": "stream",
     "text": [
      "Otto the Robot\n",
      "1.0.5-packet-tracer---logical-and-physical-mode-exploration.pka\n",
      "1.5.7-packet-tracer---network-representation.pka\n",
      "11.5.5-packet-tracer---subnet-an-ipv4-network.pka\n",
      "14.8.1-packet-tracer---tcp-and-udp-communications.pka\n",
      "2.3.7-packet-tracer---navigate-the-ios.pka\n",
      "2.3.8-packet-tracer---navigate-the-ios-using-a-terminal-client-for-console-connectivity---physical-mode.pka\n",
      "2.5.5-packet-tracer---configure-initial-switch-settings.pka\n",
      "2.7.6-packet-tracer---implement-basic-connectivity Complete.pka\n",
      "2.7.6-packet-tracer---implement-basic-connectivity.pka\n",
      "2.8.1-video-activity---test-the-interface-assignment.pkt\n",
      "2.9.1-packet-tracer---basic-switch-and-end-device-configuration (1).pka\n",
      "2.9.1-packet-tracer---basic-switch-and-end-device-configuration.pka\n",
      "2.9.2-packet-tracer---basic-switch-and-end-device-configuration---physical-mode Complete.pka\n",
      "2.9.2-packet-tracer---basic-switch-and-end-device-configuration---physical-mode.pka\n",
      "3.5.5-packet-tracer---investigate-the-tcp-ip-and-osi-models-in-action.pka\n",
      "4.6.5-packet-tracer---connect-a-wired-and-wireless-lan.pka\n",
      "4.7.1-packet-tracer---connect-the-physical-layer.pka\n",
      "about_lab (1).zip\n",
      "about_lab.zip\n",
      "Apple-Assg-Images.zip\n",
      "BPMNsymbols.PNG\n",
      "BPMsymbols.drawio\n",
      "createmary.sql\n",
      "Data Assignment.drawio\n",
      "Data Assignment.png\n",
      "DB 1007 Assignment 2.docx\n",
      "dentist (1).drawio\n",
      "dentist (2) (1).drawio\n",
      "dentist (2).drawio\n",
      "dentist (3).drawio\n",
      "dentist (4).drawio\n",
      "dentist (5).drawio\n",
      "dentist (6).drawio\n",
      "dentist.drawio\n",
      "dotnet-sdk-7.0.402-win-x64.exe\n",
      "en-us_windows_10_consumer_editions_version_22h2_x64_dvd_8da72ab3.iso\n",
      "example.drawio\n",
      "Example.png\n",
      "filenames.txt\n",
      "IP To Decimal To Hex with Subnet mask info.xlsx\n",
      "Kennel_Data (1).drawio\n",
      "Kennel_Data (2).drawio\n",
      "Kennel_Data_FINAL (1).jpg\n",
      "Kennel_Data_FINAL (2).jpg\n",
      "Kennel_Data_FINAL.drawio\n",
      "Kennel_Data_FINAL.jpg\n",
      "Kennel_Data.drawio\n",
      "Knives.jpg\n",
      "Logo.png\n",
      "networkAccess.accdb\n",
      "NT-Bones.html\n",
      "NT-Bones.html.zip\n",
      "OracleXE213_Win64.zip\n",
      "Out.txt\n",
      "Packet Tracer Assignment 4.6.5.docx\n",
      "ttugqk3oietgy7p4yu8n.jpeg\n",
      "Untitled_Artwork.jpg\n",
      "VMware-workstation-full-17.0.0-20800274.exe\n",
      "VSCodeUserSetup-x64-1.82.2.exe\n",
      "WEBD10003458Website Development(B)Sawler,Nicole - 10312023 - 1127 AM.zip\n",
      "WEBD10003458Website Development(B)Sawler,Nicole - 11162023 - 1039 AM.zip\n"
     ]
    }
   ],
   "source": [
    "# read contents of a mutiline file as a single String\n",
    "$text = (Get-Content .\\filenames.txt -Raw)\n",
    "foreach ($ch in $text.ToCharArray()) {\n",
    "    write-host $ch -NoNewline\n",
    "}"
   ]
  },
  {
   "cell_type": "code",
   "execution_count": 7,
   "metadata": {
    "dotnet_interactive": {
     "language": "pwsh"
    },
    "polyglot_notebook": {
     "kernelName": "pwsh"
    },
    "vscode": {
     "languageId": "polyglot-notebook"
    }
   },
   "outputs": [
    {
     "name": "stdout",
     "output_type": "stream",
     "text": [
      "\u001b[31;1mGet-Content: \u001b[0m\n",
      "\u001b[31;1m\u001b[36;1mLine |\u001b[0m\n",
      "\u001b[31;1m\u001b[36;1m\u001b[36;1m   2 | \u001b[0m \u001b[36;1mGet-Content \".\\crappydb.ps1\" -TotalCount 3\u001b[0m\n",
      "\u001b[31;1m\u001b[36;1m\u001b[36;1m\u001b[0m\u001b[36;1m\u001b[0m\u001b[36;1m     | \u001b[31;1m ~~~~~~~~~~~~~~~~~~~~~~~~~~~~~~~~~~~~~~~~~~\u001b[0m\n",
      "\u001b[31;1m\u001b[36;1m\u001b[36;1m\u001b[0m\u001b[36;1m\u001b[0m\u001b[36;1m\u001b[31;1m\u001b[31;1m\u001b[36;1m     | \u001b[31;1mCannot find path 'C:\\Users\\W0400330\\Downloads\\crappydb.ps1' because it does not exist.\u001b[0m\n"
     ]
    },
    {
     "ename": "Error",
     "evalue": "Command failed: SubmitCode: # read 3 lines from crappydb.ps1 ...",
     "output_type": "error",
     "traceback": [
      "Command failed: SubmitCode: # read 3 lines from crappydb.ps1 ..."
     ]
    }
   ],
   "source": [
    "# read first 3 lines from crappydb.ps1\n",
    "Get-Content \".\\crappydb.ps1\" -TotalCount 3"
   ]
  },
  {
   "cell_type": "code",
   "execution_count": null,
   "metadata": {
    "dotnet_interactive": {
     "language": "pwsh"
    },
    "polyglot_notebook": {
     "kernelName": "pwsh"
    },
    "vscode": {
     "languageId": "polyglot-notebook"
    }
   },
   "outputs": [],
   "source": [
    "# read last 3 lines from crappydb.ps1\n",
    "Get-Content \".\\crappydb.ps1\" -"
   ]
  },
  {
   "cell_type": "code",
   "execution_count": null,
   "metadata": {
    "dotnet_interactive": {
     "language": "pwsh"
    },
    "polyglot_notebook": {
     "kernelName": "pwsh"
    },
    "vscode": {
     "languageId": "polyglot-notebook"
    }
   },
   "outputs": [],
   "source": [
    "# writing arrays tp file on a separate lines\n",
    "$array = 1,2,3,4,5\n",
    "set-content .\\test.txt $array"
   ]
  },
  {
   "cell_type": "code",
   "execution_count": 9,
   "metadata": {
    "dotnet_interactive": {
     "language": "pwsh"
    },
    "polyglot_notebook": {
     "kernelName": "pwsh"
    },
    "vscode": {
     "languageId": "polyglot-notebook"
    }
   },
   "outputs": [
    {
     "name": "stdout",
     "output_type": "stream",
     "text": [
      "\u001b[31;1mInvalidOperation: \u001b[0m\n",
      "\u001b[31;1m\u001b[36;1mLine |\u001b[0m\n",
      "\u001b[31;1m\u001b[36;1m\u001b[36;1m   2 | \u001b[0m $fs = \u001b[36;1m[system.i0.streamwriter]\u001b[0m::new(\"$pwd\\rappydb.txt\")\u001b[0m\n",
      "\u001b[31;1m\u001b[36;1m\u001b[36;1m\u001b[0m\u001b[36;1m\u001b[0m\u001b[36;1m     | \u001b[31;1m       ~~~~~~~~~~~~~~~~~~~~~~~~\u001b[0m\n",
      "\u001b[31;1m\u001b[36;1m\u001b[36;1m\u001b[0m\u001b[36;1m\u001b[0m\u001b[36;1m\u001b[31;1m\u001b[31;1m\u001b[36;1m     | \u001b[31;1mUnable to find type [system.i0.streamwriter].\u001b[0m\n",
      "\u001b[31;1mInvalidOperation: \u001b[0m\n",
      "\u001b[31;1m\u001b[36;1mLine |\u001b[0m\n",
      "\u001b[31;1m\u001b[36;1m\u001b[36;1m   3 | \u001b[0m \u001b[36;1m$fs.writeline(\"From .NET StreamWriter\")\u001b[0m\n",
      "\u001b[31;1m\u001b[36;1m\u001b[36;1m\u001b[0m\u001b[36;1m\u001b[0m\u001b[36;1m     | \u001b[31;1m ~~~~~~~~~~~~~~~~~~~~~~~~~~~~~~~~~~~~~~~\u001b[0m\n",
      "\u001b[31;1m\u001b[36;1m\u001b[36;1m\u001b[0m\u001b[36;1m\u001b[0m\u001b[36;1m\u001b[31;1m\u001b[31;1m\u001b[36;1m     | \u001b[31;1mYou cannot call a method on a null-valued expression.\u001b[0m\n",
      "\u001b[31;1mInvalidOperation: \u001b[0m\n",
      "\u001b[31;1m\u001b[36;1mLine |\u001b[0m\n",
      "\u001b[31;1m\u001b[36;1m\u001b[36;1m   4 | \u001b[0m \u001b[36;1m$fs.close()\u001b[0m\n",
      "\u001b[31;1m\u001b[36;1m\u001b[36;1m\u001b[0m\u001b[36;1m\u001b[0m\u001b[36;1m     | \u001b[31;1m ~~~~~~~~~~~\u001b[0m\n",
      "\u001b[31;1m\u001b[36;1m\u001b[36;1m\u001b[0m\u001b[36;1m\u001b[0m\u001b[36;1m\u001b[31;1m\u001b[31;1m\u001b[36;1m     | \u001b[31;1mYou cannot call a method on a null-valued expression.\u001b[0m\n"
     ]
    }
   ],
   "source": [
    "# .NET version\n",
    "$fs = [system.i0.streamwriter]::new(\"$pwd\\rappydb.txt\")\n",
    "$fs.writeline(\"From .NET StreamWriter\")\n",
    "$fs.close()"
   ]
  },
  {
   "cell_type": "code",
   "execution_count": null,
   "metadata": {
    "dotnet_interactive": {
     "language": "pwsh"
    },
    "polyglot_notebook": {
     "kernelName": "pwsh"
    },
    "vscode": {
     "languageId": "polyglot-notebook"
    }
   },
   "outputs": [],
   "source": [
    "add-content -path"
   ]
  },
  {
   "cell_type": "code",
   "execution_count": null,
   "metadata": {
    "dotnet_interactive": {
     "language": "pwsh"
    },
    "polyglot_notebook": {
     "kernelName": "pwsh"
    },
    "vscode": {
     "languageId": "polyglot-notebook"
    }
   },
   "outputs": [],
   "source": [
    "# .NET for rading files\n",
    "$fs = [System.I0.StreamReader]::new(\"$pwd\\crappydb\\crappydb.txt\")\n",
    "$line = $fs.readline()\n",
    "$line\n",
    "$fs.close()\n",
    "# .NET for rading files (all lines)\n",
    "$fs = [System.I0.StreamReader]::new(\"$pwd\\crappydb\\crappydb.txt\")\n",
    "$line = $fs.radtoend()\n",
    "$line\n",
    "$fs.close()"
   ]
  },
  {
   "cell_type": "code",
   "execution_count": null,
   "metadata": {
    "dotnet_interactive": {
     "language": "pwsh"
    },
    "polyglot_notebook": {
     "kernelName": "pwsh"
    },
    "vscode": {
     "languageId": "polyglot-notebook"
    }
   },
   "outputs": [],
   "source": [
    "# .NET method (that doesn't need opne/close)\n",
    "# for array\n",
    "[Sytem.I0.File]::Readallines(\"$pwd\\crappydb\\crappydb.txt\")\n",
    "$lines.gettype"
   ]
  },
  {
   "cell_type": "code",
   "execution_count": null,
   "metadata": {
    "dotnet_interactive": {
     "language": "pwsh"
    },
    "polyglot_notebook": {
     "kernelName": "pwsh"
    },
    "vscode": {
     "languageId": "polyglot-notebook"
    }
   },
   "outputs": [],
   "source": [
    "# reads string\n",
    "[Sytem.I0.File]::readalltext(\"$pwd\\crappydb\\crappydb.txt\")"
   ]
  }
 ],
 "metadata": {
  "language_info": {
   "name": "python"
  }
 },
 "nbformat": 4,
 "nbformat_minor": 2
}
