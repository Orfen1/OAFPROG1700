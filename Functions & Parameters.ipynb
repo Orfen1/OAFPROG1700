{
 "cells": [
  {
   "cell_type": "code",
   "execution_count": null,
   "metadata": {
    "dotnet_interactive": {
     "language": "pwsh"
    },
    "polyglot_notebook": {
     "kernelName": "pwsh"
    },
    "vscode": {
     "languageId": "polyglot-notebook"
    }
   },
   "outputs": [],
   "source": [
    "#basic parameters\n",
    "function Get-Sum ($a, $b) {\n",
    "    return $a + $b\n",
    "}\n",
    "Get-Sum 1 2\n"
   ]
  },
  {
   "cell_type": "code",
   "execution_count": null,
   "metadata": {
    "dotnet_interactive": {
     "language": "pwsh"
    },
    "polyglot_notebook": {
     "kernelName": "pwsh"
    },
    "vscode": {
     "languageId": "polyglot-notebook"
    }
   },
   "outputs": [],
   "source": [
    "#named parameters\n",
    "function Get-sum ([int]$first, )"
   ]
  },
  {
   "cell_type": "code",
   "execution_count": null,
   "metadata": {
    "dotnet_interactive": {
     "language": "pwsh"
    },
    "polyglot_notebook": {
     "kernelName": "pwsh"
    },
    "vscode": {
     "languageId": "polyglot-notebook"
    }
   },
   "outputs": [],
   "source": [
    "# Powershell's preferred parameter list\n",
    "function Get-Sum {\n",
    "    param ([int]$a, [int]$b)\n",
    "}\n",
    "get-Sum 1 2"
   ]
  },
  {
   "cell_type": "code",
   "execution_count": null,
   "metadata": {
    "dotnet_interactive": {
     "language": "pwsh"
    },
    "polyglot_notebook": {
     "kernelName": "pwsh"
    },
    "vscode": {
     "languageId": "polyglot-notebook"
    }
   },
   "outputs": [],
   "source": [
    "# adding attributes to parameters\n",
    "function Get-sum {}"
   ]
  },
  {
   "cell_type": "code",
   "execution_count": null,
   "metadata": {
    "dotnet_interactive": {
     "language": "pwsh"
    },
    "polyglot_notebook": {
     "kernelName": "pwsh"
    },
    "vscode": {
     "languageId": "polyglot-notebook"
    }
   },
   "outputs": [],
   "source": [
    "#Positional parameters\n",
    "function Get-sum {\n",
    "    $sum = 0\n",
    "    foreach ($arg in $args) {\n",
    "        $sum\n",
    "    }\n",
    "}"
   ]
  },
  {
   "cell_type": "code",
   "execution_count": null,
   "metadata": {
    "dotnet_interactive": {
     "language": "pwsh"
    },
    "polyglot_notebook": {
     "kernelName": "pwsh"
    },
    "vscode": {
     "languageId": "polyglot-notebook"
    }
   },
   "outputs": [],
   "source": [
    "#switch parameters\n",
    "function set-harddrivereadonly {\n",
    "    param (\n",
    "        [switch] $readonly\n",
    "        \n",
    "    )\n",
    "}"
   ]
  },
  {
   "cell_type": "code",
   "execution_count": null,
   "metadata": {
    "dotnet_interactive": {
     "language": "pwsh"
    },
    "polyglot_notebook": {
     "kernelName": "pwsh"
    },
    "vscode": {
     "languageId": "polyglot-notebook"
    }
   },
   "outputs": [],
   "source": [
    "#high low game\n",
    "\n",
    "function Get-HighLowAnswer {\n",
    "    # generate a random number\n",
    "    Get-Random -Minimum 1 -Maximum 10\n",
    "}\n",
    "function start-highlowgame {\n",
    "    Param (\n",
    "        [int]$Answer\n",
    "    )\n",
    "}\n",
    "do {\n",
    "    # ask the user to make a guess\n",
    "    $Guess = Read-host \"Guess a number between 1 and 10\"\n",
    "\n",
    "    # compare guess against answer until they answer correctly\n",
    "    \n",
    "    #if guess is lower than the answer, output \"higher\"\n",
    "    if ($Guess -lt $script:Answer) {\n",
    "        \"Higher\"\n",
    "    }\n",
    "    \n",
    "    # if guess is higher than the answer, output \"LOWER\"\n",
    "    if ($Guess -gt $script:Answer) {\n",
    "        \"Lower\"\n",
    "    }\n",
    "\n",
    "    # if guess is equal to the answer\n",
    "    if ($Guess -eq $script:Answer) {\n",
    "        \"Correct!\"\n",
    "    }\n",
    "    until ($Guess -eq $Answer)\n",
    "}\n",
    "\n",
    "$randomNumber=Get-HighLowAnswer\n",
    "start-highlowgame -Answer $randomNumber"
   ]
  },
  {
   "cell_type": "code",
   "execution_count": 4,
   "metadata": {
    "dotnet_interactive": {
     "language": "pwsh"
    },
    "polyglot_notebook": {
     "kernelName": "pwsh"
    },
    "vscode": {
     "languageId": "polyglot-notebook"
    }
   },
   "outputs": [
    {
     "name": "stdout",
     "output_type": "stream",
     "text": [
      "before: i = 10, f = 1, b = False, s = a string\n",
      "after: i = 10, f = 1, b = False, s = a string\n"
     ]
    }
   ],
   "source": [
    "# by value\n",
    "function passbyvalue ($integer, $decimal, $Boolean, $string) {\n",
    "    $integer++\n",
    "    $decimal *= [math]::pi\n",
    "    $boolean = -not $boolean \n",
    "    $string = \"a different string\"\n",
    "}\n",
    "$i = 10\n",
    "$f = 1.0\n",
    "$b = $false\n",
    "$s = \"a string\"\n",
    "\n",
    "write-host \"before: i = $i, f = $f, b = $b, s = $s\"\n",
    "PassByValue $i $f $b $s\n",
    "Write-host \"after: i = $i, f = $f, b = $b, s = $s\""
   ]
  },
  {
   "cell_type": "code",
   "execution_count": 11,
   "metadata": {
    "dotnet_interactive": {
     "language": "pwsh"
    },
    "polyglot_notebook": {
     "kernelName": "pwsh"
    },
    "vscode": {
     "languageId": "polyglot-notebook"
    }
   },
   "outputs": [
    {
     "name": "stdout",
     "output_type": "stream",
     "text": [
      "before: a = [1 2 3 4 5], h = {\"banana\":\"yellow\",\"apple\":\"red\"}\n",
      "after : a = [456 2 3 4 5 999], h = {\"banana\":\"yellow\",\"apple\":\"red\",\"orange\":\"orange\"}\n"
     ]
    }
   ],
   "source": [
    "# pass by reference\n",
    "function PassByReference ($array, $hashtable) {\n",
    "    $array[0] = 234\n",
    "    $array += 999\n",
    "    $array[0] = 456\n",
    "    $hashtable.orange = 'orange'\n",
    "\n",
    "    return $array\n",
    "}\n",
    "\n",
    "$a = 1, 2, 3, 4, 5\n",
    "$h = @{ apple = 'red'; banana = 'yellow' }\n",
    "\n",
    "write-host \"before: a = [$a], h = $($h | ConvertTo-Json -Compress)\"\n",
    "$a = passbyreference $a $h\n",
    "write-host \"after : a = [$a], h = $($h | ConvertTo-Json -Compress)\""
   ]
  },
  {
   "cell_type": "code",
   "execution_count": 15,
   "metadata": {
    "dotnet_interactive": {
     "language": "pwsh"
    },
    "polyglot_notebook": {
     "kernelName": "pwsh"
    },
    "vscode": {
     "languageId": "polyglot-notebook"
    }
   },
   "outputs": [
    {
     "name": "stdout",
     "output_type": "stream",
     "text": [
      "3\n",
      "-1\n",
      "2\n",
      "0.5\n",
      "sum = 3, diff = -1, prod = 2, div = 0.5\n"
     ]
    }
   ],
   "source": [
    "# multiple return values\n",
    "function Get-Math {\n",
    "    param (\n",
    "        $a,\n",
    "        $b\n",
    "    )\n",
    "    return ($a + $b), ($a - $b), ($a * $b), ($a / $b)\n",
    "}\n",
    "Get-Math -a 1 -b 2\n",
    "$sum, $diff, $prod, $div = Get-Math -a 1 -b 2\n",
    "\"sum = $sum, diff = $diff, prod = $prod, div = $div\""
   ]
  },
  {
   "cell_type": "code",
   "execution_count": 19,
   "metadata": {
    "dotnet_interactive": {
     "language": "pwsh"
    },
    "polyglot_notebook": {
     "kernelName": "pwsh"
    },
    "vscode": {
     "languageId": "polyglot-notebook"
    }
   },
   "outputs": [
    {
     "name": "stdout",
     "output_type": "stream",
     "text": [
      "\n",
      "\u001b[32;1mName                           Value\u001b[0m\n",
      "\u001b[32;1m----                           -----\u001b[0m\n",
      "sum                            3\n",
      "diff                           -1\n",
      "product                        2\n",
      "div                            0.5\n",
      "\n"
     ]
    }
   ],
   "source": [
    "function Get-Math {\n",
    "    param (\n",
    "        $a,\n",
    "        $b\n",
    "    )\n",
    "    return @{ sum = ($a + $b); diff = ($a - $b); product = ($a * $b); div = ($a / $b); }\n",
    "}\n",
    "Get-Math -a 1 -b 2"
   ]
  },
  {
   "cell_type": "code",
   "execution_count": 25,
   "metadata": {
    "dotnet_interactive": {
     "language": "pwsh"
    },
    "polyglot_notebook": {
     "kernelName": "pwsh"
    },
    "vscode": {
     "languageId": "polyglot-notebook"
    }
   },
   "outputs": [
    {
     "name": "stdout",
     "output_type": "stream",
     "text": [
      "adding\n",
      "subtracting\n",
      "multiplying\n",
      "dividing\n",
      "sum = 3, diff = -1, prod = 2, div = 0.5\n"
     ]
    }
   ],
   "source": [
    "function Get-Math {\n",
    "    param (\n",
    "        $a,\n",
    "        $b\n",
    "    )\n",
    "    write-host \"adding\"\n",
    "    $a + $b\n",
    "    write-host \"subtracting\" \n",
    "    $a - $b\n",
    "    write-host \"multiplying\"\n",
    "    $a * $b\n",
    "    write-host \"dividing\"\n",
    "    $a / $b\n",
    "}\n",
    "$sum, $diff, $prod, $div = Get-Math -a 1 -b 2\n",
    "\"sum = $sum, diff = $diff, prod = $prod, div = $div\""
   ]
  }
 ],
 "metadata": {
  "language_info": {
   "name": "python"
  }
 },
 "nbformat": 4,
 "nbformat_minor": 2
}
