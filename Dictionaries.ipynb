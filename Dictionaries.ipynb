{
 "cells": [
  {
   "cell_type": "code",
   "execution_count": 10,
   "metadata": {
    "dotnet_interactive": {
     "language": "pwsh"
    },
    "polyglot_notebook": {
     "kernelName": "pwsh"
    },
    "vscode": {
     "languageId": "polyglot-notebook"
    }
   },
   "outputs": [
    {
     "name": "stdout",
     "output_type": "stream",
     "text": [
      "apples, oranges, tangerines, cherries\r\n"
     ]
    }
   ],
   "source": [
    "# creating a hash table\n",
    "$Fruit = @{\n",
    "    'apple' = 'red';\n",
    "    'bannana' = 'yellow';\n",
    "    'orange' = 'orange';\n",
    "    'fruit cocktail' = 'apples, oranges, tangerines, cherries';\n",
    "}\n",
    "$Fruit['fruit cocktail']"
   ]
  },
  {
   "cell_type": "code",
   "execution_count": 12,
   "metadata": {
    "dotnet_interactive": {
     "language": "pwsh"
    },
    "polyglot_notebook": {
     "kernelName": "pwsh"
    },
    "vscode": {
     "languageId": "polyglot-notebook"
    }
   },
   "outputs": [
    {
     "name": "stdout",
     "output_type": "stream",
     "text": [
      "correct!\r\n"
     ]
    }
   ],
   "source": [
    "# password list\n",
    "$Passwords = @{\n",
    "    'W123123' = 'password';\n",
    "    'W111111' = 'easypeasy';\n",
    "    'W123456' = 'veryhard';\n",
    "}\n",
    "if ($Passwords['W111111'] -eq 'easypeasy') {\n",
    "    'correct!'\n",
    "}"
   ]
  },
  {
   "cell_type": "code",
   "execution_count": 13,
   "metadata": {
    "dotnet_interactive": {
     "language": "pwsh"
    },
    "polyglot_notebook": {
     "kernelName": "pwsh"
    },
    "vscode": {
     "languageId": "polyglot-notebook"
    }
   },
   "outputs": [
    {
     "name": "stdout",
     "output_type": "stream",
     "text": [
      "*****\n",
      "*****\n"
     ]
    }
   ],
   "source": [
    "# optional quotes\n",
    "$Superheroes = @{batman='*****'; catwoman='*'; superman='***'}\n",
    "$Superheroes['batman']\n",
    "$Superheroes.batman"
   ]
  },
  {
   "cell_type": "code",
   "execution_count": 14,
   "metadata": {
    "dotnet_interactive": {
     "language": "pwsh"
    },
    "polyglot_notebook": {
     "kernelName": "pwsh"
    },
    "vscode": {
     "languageId": "polyglot-notebook"
    }
   },
   "outputs": [
    {
     "name": "stdout",
     "output_type": "stream",
     "text": [
      "\n",
      "\u001b[32;1mName                           Value\u001b[0m\n",
      "\u001b[32;1m----                           -----\u001b[0m\n",
      "Worst                          Candy Corn\n",
      "Ok                             Chips\n",
      "Excellent                      CandyApples\n",
      "Best                           Chocolate\n",
      "\n"
     ]
    }
   ],
   "source": [
    "# adding to a hash table\n",
    "$Candy = @{'Best'='Chocolate'; 'Ok'='Chips'; 'Worst'='Candy Corn'}\n",
    "$Candy['Excellent'] = 'CandyApples'\n",
    "$Candy"
   ]
  },
  {
   "cell_type": "code",
   "execution_count": 23,
   "metadata": {
    "dotnet_interactive": {
     "language": "pwsh"
    },
    "polyglot_notebook": {
     "kernelName": "pwsh"
    },
    "vscode": {
     "languageId": "polyglot-notebook"
    }
   },
   "outputs": [
    {
     "name": "stdout",
     "output_type": "stream",
     "text": [
      "\u001b[31;1mInvalidOperation: \u001b[0m\n",
      "\u001b[31;1m\u001b[36;1mLine |\u001b[0m\n",
      "\u001b[31;1m\u001b[36;1m\u001b[36;1m   6 | \u001b[0m     \u001b[36;1m$LargSizeFiles[($Item.Name)] = $Item.Length\u001b[0m\n",
      "\u001b[31;1m\u001b[36;1m\u001b[36;1m\u001b[0m\u001b[36;1m\u001b[0m\u001b[36;1m     | \u001b[31;1m     ~~~~~~~~~~~~~~~~~~~~~~~~~~~~~~~~~~~~~~~~~~~\u001b[0m\n",
      "\u001b[31;1m\u001b[36;1m\u001b[36;1m\u001b[0m\u001b[36;1m\u001b[0m\u001b[36;1m\u001b[31;1m\u001b[31;1m\u001b[36;1m     | \u001b[31;1mCannot index into a null array.\u001b[0m\n",
      "\u001b[31;1mInvalidOperation: \u001b[0m\n",
      "\u001b[31;1m\u001b[36;1mLine |\u001b[0m\n",
      "\u001b[31;1m\u001b[36;1m\u001b[36;1m   6 | \u001b[0m     \u001b[36;1m$LargSizeFiles[($Item.Name)] = $Item.Length\u001b[0m\n",
      "\u001b[31;1m\u001b[36;1m\u001b[36;1m\u001b[0m\u001b[36;1m\u001b[0m\u001b[36;1m     | \u001b[31;1m     ~~~~~~~~~~~~~~~~~~~~~~~~~~~~~~~~~~~~~~~~~~~\u001b[0m\n",
      "\u001b[31;1m\u001b[36;1m\u001b[36;1m\u001b[0m\u001b[36;1m\u001b[0m\u001b[36;1m\u001b[31;1m\u001b[31;1m\u001b[36;1m     | \u001b[31;1mCannot index into a null array.\u001b[0m\n",
      "\u001b[31;1mInvalidOperation: \u001b[0m\n",
      "\u001b[31;1m\u001b[36;1mLine |\u001b[0m\n",
      "\u001b[31;1m\u001b[36;1m\u001b[36;1m   6 | \u001b[0m     \u001b[36;1m$LargSizeFiles[($Item.Name)] = $Item.Length\u001b[0m\n",
      "\u001b[31;1m\u001b[36;1m\u001b[36;1m\u001b[0m\u001b[36;1m\u001b[0m\u001b[36;1m     | \u001b[31;1m     ~~~~~~~~~~~~~~~~~~~~~~~~~~~~~~~~~~~~~~~~~~~\u001b[0m\n",
      "\u001b[31;1m\u001b[36;1m\u001b[36;1m\u001b[0m\u001b[36;1m\u001b[0m\u001b[36;1m\u001b[31;1m\u001b[31;1m\u001b[36;1m     | \u001b[31;1mCannot index into a null array.\u001b[0m\n",
      "\u001b[31;1mInvalidOperation: \u001b[0m\n",
      "\u001b[31;1m\u001b[36;1mLine |\u001b[0m\n",
      "\u001b[31;1m\u001b[36;1m\u001b[36;1m   6 | \u001b[0m     \u001b[36;1m$LargSizeFiles[($Item.Name)] = $Item.Length\u001b[0m\n",
      "\u001b[31;1m\u001b[36;1m\u001b[36;1m\u001b[0m\u001b[36;1m\u001b[0m\u001b[36;1m     | \u001b[31;1m     ~~~~~~~~~~~~~~~~~~~~~~~~~~~~~~~~~~~~~~~~~~~\u001b[0m\n",
      "\u001b[31;1m\u001b[36;1m\u001b[36;1m\u001b[0m\u001b[36;1m\u001b[0m\u001b[36;1m\u001b[31;1m\u001b[31;1m\u001b[36;1m     | \u001b[31;1mCannot index into a null array.\u001b[0m\n"
     ]
    }
   ],
   "source": [
    "# looping to add\n",
    "$Items = Get-ChildItem $HOME\n",
    "$LargeSizeFiles =@{}\n",
    "foreach ($Item in $Items) {\n",
    "    if ($Item.Length -gt 1) {\n",
    "    $LargSizeFiles[($Item.Name)] = $Item.Length\n",
    "    }\n",
    "}\n",
    "$LargSizeFiles"
   ]
  },
  {
   "cell_type": "code",
   "execution_count": 25,
   "metadata": {
    "dotnet_interactive": {
     "language": "pwsh"
    },
    "polyglot_notebook": {
     "kernelName": "pwsh"
    },
    "vscode": {
     "languageId": "polyglot-notebook"
    }
   },
   "outputs": [
    {
     "name": "stdout",
     "output_type": "stream",
     "text": [
      "\n",
      "\u001b[32;1mName                           Value\u001b[0m\n",
      "\u001b[32;1m----                           -----\u001b[0m\n",
      "Ok                             Chips\n",
      "Best                           Chocolate\n",
      "\n"
     ]
    }
   ],
   "source": [
    "# Removing from hash table\n",
    "$Candy = @{'Best'='Chocolate'; 'Ok'='Chips'; 'Worst'='Candy Corn'}\n",
    "$Candy.remove('Worst')\n",
    "$Candy"
   ]
  },
  {
   "cell_type": "code",
   "execution_count": 28,
   "metadata": {
    "dotnet_interactive": {
     "language": "pwsh"
    },
    "polyglot_notebook": {
     "kernelName": "pwsh"
    },
    "vscode": {
     "languageId": "polyglot-notebook"
    }
   },
   "outputs": [
    {
     "name": "stdout",
     "output_type": "stream",
     "text": [
      "123\n",
      "1\n",
      "red\n",
      "yellow\n"
     ]
    }
   ],
   "source": [
    "# what can be in a hash table?\n",
    "$Things = @{\n",
    "    number = 123;\n",
    "    string = 'hello world';\n",
    "    decimal = 3.14159;\n",
    "    boolean = $true;\n",
    "    array = @(1,2,3,4,5);\n",
    "    hashtable = @{apple='red';banana='yellow';orange='orange'};\n",
    "}\n",
    "$Things.number\n",
    "$Things.array[0]\n",
    "$Things.hashtable['apple']\n",
    "$Things.hashtable.banana"
   ]
  },
  {
   "cell_type": "code",
   "execution_count": 29,
   "metadata": {
    "dotnet_interactive": {
     "language": "pwsh"
    },
    "polyglot_notebook": {
     "kernelName": "pwsh"
    },
    "vscode": {
     "languageId": "polyglot-notebook"
    }
   },
   "outputs": [
    {
     "name": "stdout",
     "output_type": "stream",
     "text": [
      "yellow\n",
      "orange\n",
      "apples, oranges, tangerines, cherries\n",
      "red\n",
      "bannana orange fruit cocktail apple\n"
     ]
    }
   ],
   "source": [
    "# Keys\n",
    "$Fruit = @{\n",
    "    'apple' = 'red';\n",
    "    'bannana' = 'yellow';\n",
    "    'orange' = 'orange';\n",
    "    'fruit cocktail' = 'apples, oranges, tangerines, cherries';\n",
    "}\n",
    "foreach ($k in $Fruit.keys) {\n",
    "    $Fruit[$k]\n",
    "}\n",
    "Write-host $Fruit.Keys"
   ]
  },
  {
   "cell_type": "code",
   "execution_count": 33,
   "metadata": {
    "dotnet_interactive": {
     "language": "pwsh"
    },
    "polyglot_notebook": {
     "kernelName": "pwsh"
    },
    "vscode": {
     "languageId": "polyglot-notebook"
    }
   },
   "outputs": [
    {
     "name": "stdout",
     "output_type": "stream",
     "text": [
      "Key = bannana, Value = yellow\n",
      "Key = orange, Value = orange\n",
      "Key = fruit cocktail, Value = apples, oranges, tangerines, cherries\n",
      "Key = apple, Value = red\n",
      "\n",
      "\u001b[32;1mName                           Value\u001b[0m\n",
      "\u001b[32;1m----                           -----\u001b[0m\n",
      "fruit cocktail                 apples, oranges, tangerines, cherries\n",
      "orange                         orange\n",
      "apple                          red\n",
      "bannana                        yellow\n",
      "\n"
     ]
    }
   ],
   "source": [
    "# key and value pairs in a loop\n",
    "$Fruit = @{\n",
    "    'apple' = 'red';\n",
    "    'bannana' = 'yellow';\n",
    "    'orange' = 'orange';\n",
    "    'fruit cocktail' = 'apples, oranges, tangerines, cherries';\n",
    "}\n",
    "foreach ($f in $Fruit.GetEnumerator()) {\n",
    "    \"Key = $($f.key), Value = $($f.value)\"\n",
    "}\n",
    "$Sorted= ($Fruit.GetEnumerator() | Sort-Object -Property Value)\n",
    "foreach ($f in $sorted) {\n",
    "    \"key = $($keys)\"\n",
    "}"
   ]
  },
  {
   "cell_type": "code",
   "execution_count": null,
   "metadata": {
    "dotnet_interactive": {
     "language": "pwsh"
    },
    "polyglot_notebook": {
     "kernelName": "pwsh"
    },
    "vscode": {
     "languageId": "polyglot-notebook"
    }
   },
   "outputs": [],
   "source": [
    "# Values \n",
    "$Fruit = @{\n",
    "    'apple' = 'red';\n",
    "    'bannana' = 'yellow';\n",
    "    'orange' = 'orange';\n",
    "    'fruit cocktail' = 'apples, oranges, tangerines, cherries';\n",
    "}\n",
    "foreach ($value in $fruit.value) {\n",
    "    \n",
    "}"
   ]
  }
 ],
 "metadata": {
  "language_info": {
   "name": "python"
  }
 },
 "nbformat": 4,
 "nbformat_minor": 2
}
