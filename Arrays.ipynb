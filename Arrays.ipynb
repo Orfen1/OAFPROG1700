{
 "cells": [
  {
   "cell_type": "code",
   "execution_count": 7,
   "metadata": {
    "dotnet_interactive": {
     "language": "pwsh"
    },
    "polyglot_notebook": {
     "kernelName": "pwsh"
    }
   },
   "outputs": [
    {
     "name": "stdout",
     "output_type": "stream",
     "text": [
      "John\n",
      "Jacob\n",
      "Jingle\n",
      "Hymer\n",
      "Schmidt\n"
     ]
    }
   ],
   "source": [
    "$Usernames = \"John\"\n",
    "$Username2 = \n",
    "$Username3 = \"Jingle\"\n",
    "$Username4 = \"Hymer\"\n",
    "$Username5 = \"Schmidt\"\n",
    "for ($i=1; $i -le 5; $i++) {\n",
    "    Write-Host(IEX \"`$Username$i\")\n",
    "}"
   ]
  },
  {
   "cell_type": "code",
   "execution_count": 21,
   "metadata": {
    "dotnet_interactive": {
     "language": "pwsh"
    },
    "polyglot_notebook": {
     "kernelName": "pwsh"
    }
   },
   "outputs": [
    {
     "name": "stdout",
     "output_type": "stream",
     "text": [
      "John\n",
      "Jacob\n",
      "Jingle\n",
      "Hymer\n",
      "Schmidt\n",
      "John\n",
      "Jacob\n",
      "Jingle\n",
      "Hymer\n",
      "Schmidt\n",
      "John\n",
      "Jacob\n",
      "Jingle\n",
      "Hymer\n",
      "Schmidt\n"
     ]
    }
   ],
   "source": [
    "#Method #2 - Using Array\n",
    "$Usernames = \"John\", \"Jacob\", \"Jingle\", \"Hymer\", \"Schmidt\"\n",
    "\n",
    "for ($i=0; $i -lt 5; $i++) {\n",
    "    Write-Host $Usernames[$i]\n",
    "}\n",
    "\n",
    "for ($i=0; $i -lt $Usernames.Length; $i++) {\n",
    "    Write-Host $Usernames[$i]\n",
    "}\n",
    "\n",
    "Foreach ($Username in $Usernames){\n",
    "    $Username\n",
    "}"
   ]
  },
  {
   "cell_type": "code",
   "execution_count": 35,
   "metadata": {
    "dotnet_interactive": {
     "language": "pwsh"
    },
    "polyglot_notebook": {
     "kernelName": "pwsh"
    }
   },
   "outputs": [
    {
     "name": "stdout",
     "output_type": "stream",
     "text": [
      "13167067\n",
      "11880500\n",
      "11880500\n"
     ]
    }
   ],
   "source": [
    "# immutable vs mutable\n",
    "$Usernames = \"John\", \"Jacob\", \"Jingle\", \"Hymer\", \"Schmidt\"\n",
    "$Usernames.GetHashCode()\n",
    "$Usernames = \"John\", \"Jacob\", \"Jingle\", \"Hymer\", \"Schmidt\"\n",
    "$Usernames.GetHashCode()\n",
    "$Usernames[0] = \"Jake\"\n",
    "$Usernames.GetHashCode()"
   ]
  },
  {
   "cell_type": "code",
   "execution_count": 36,
   "metadata": {
    "dotnet_interactive": {
     "language": "pwsh"
    },
    "polyglot_notebook": {
     "kernelName": "pwsh"
    }
   },
   "outputs": [
    {
     "name": "stdout",
     "output_type": "stream",
     "text": [
      "John\n",
      "Jacob\n",
      "Jingle\n",
      "Hymer\n",
      "Schmidt\n",
      "John\n",
      "Jacob\n",
      "Jingle\n",
      "Hymer\n",
      "Schmidt\n",
      "Jill\n"
     ]
    }
   ],
   "source": [
    "# ad item to array\n",
    "$Usernames = \"John\", \"Jacob\", \"Jingle\", \"Hymer\", \"Schmidt\"\n",
    "$Usernames\n",
    "$Usernames +=\"Jill\"\n",
    "$Usernames"
   ]
  },
  {
   "cell_type": "code",
   "execution_count": 47,
   "metadata": {
    "dotnet_interactive": {
     "language": "pwsh"
    },
    "polyglot_notebook": {
     "kernelName": "pwsh"
    }
   },
   "outputs": [
    {
     "name": "stdout",
     "output_type": "stream",
     "text": [
      "\n",
      "\"\"\n",
      "a b c d\n",
      "cat\n",
      "String\n",
      "Object[]\n",
      "1 2 3 4 5 6 7 8 9 10\n",
      "cat dog\n",
      "1 2 3 4 5 10 11 12 13 14 15 20\n",
      "Object[]\n",
      "Bobble 123 3.1415 Head\n"
     ]
    }
   ],
   "source": [
    "# Creating Arrays\n",
    "$Number = 1, 2, 3, 4, 5\n",
    "Write-Host $Numbers\n",
    "$EmptyArrray =@(\"\")\n",
    "Write-Host \"`\"$EmptyArray`\"\"\n",
    "$OldMethod =@(\"a\",\"b\",\"c\",\"d\")\n",
    "Write-Host $OldMethod\n",
    "$ArrayWithOneItem =@(\"cat\")\n",
    "Write-Host $ArrayWithOneItem\n",
    "$NotAnArray = \"cat\"\n",
    "$NotAnArray.GetType().Name\n",
    "$WeirdArray = , \"dog\"\n",
    "$WeirdArray.GetType().Name\n",
    "$NumberArray = 1..10\n",
    "Write-Host $NumberArray\n",
    "$NewArray = $ArrayWithOneItem + $WeirdArray\n",
    "Write-Host $NewArray\n",
    "$MoreNumbers = 1..5 + 10..15 + 20\n",
    "Write-Host $MoreNumbers\n",
    "$MoreNumbers.GetType().Name\n",
    "$Things = \"Bobble\", 123, 3.1415, \"Head\"\n",
    "Write-Host $Things"
   ]
  },
  {
   "cell_type": "code",
   "execution_count": 50,
   "metadata": {
    "dotnet_interactive": {
     "language": "pwsh"
    },
    "polyglot_notebook": {
     "kernelName": "pwsh"
    }
   },
   "outputs": [
    {
     "name": "stdout",
     "output_type": "stream",
     "text": [
      "Int32[]\n",
      "15\n"
     ]
    }
   ],
   "source": [
    "# Change Array DataType\n",
    "[int[]]$Numbers = 1,2,3,4,5 \n",
    "$Numbers.GetType().Name\n",
    "$Sum = 0\n",
    "foreach ($Num in $Numbers) {\n",
    "    $Sum += $Num\n",
    "}\n",
    "$Sum"
   ]
  },
  {
   "cell_type": "code",
   "execution_count": 63,
   "metadata": {
    "dotnet_interactive": {
     "language": "pwsh"
    },
    "polyglot_notebook": {
     "kernelName": "pwsh"
    }
   },
   "outputs": [
    {
     "name": "stdout",
     "output_type": "stream",
     "text": [
      "Santa\n",
      "True\n",
      "Santa\n",
      "Batman Robin\n",
      "Batman Tinkerbell Santa Robin\n",
      "Robin Santa Tinkerbell Batman\n",
      "Batman Robin Tinkerbell Santa\n"
     ]
    }
   ],
   "source": [
    "# Accessing elements in an array\n",
    "$Costumes = \"Batman\", \"Robin\", \"Santa\", \"Tinkerbell\"\n",
    "$Costumes[2]\n",
    "$NullVallue = $Costumes[4]\n",
    "$NullVallue -eq $null\n",
    "$Costumes[-2]\n",
    "Write-Host $Costumes[0..1]\n",
    "Write-Host $Costumes[0..-3]\n",
    "Write-Host $Costumes[-3..0]\n",
    "Write-Host $Costumes[0..1 + 3 +2]"
   ]
  },
  {
   "cell_type": "code",
   "execution_count": 1,
   "metadata": {
    "dotnet_interactive": {
     "language": "pwsh"
    },
    "polyglot_notebook": {
     "kernelName": "pwsh"
    }
   },
   "outputs": [
    {
     "name": "stdout",
     "output_type": "stream",
     "text": [
      "Object[]\n",
      "ApplicationFrameHost\n",
      "ApplicationFrameHost\n",
      "Code - Insiders\n",
      "Code - Insiders\n",
      "Code - Insiders\n",
      "Code - Insiders\n",
      "Code - Insiders\n",
      "Code - Insiders\n",
      "Code - Insiders\n",
      "Code - Insiders\n",
      "Code - Insiders\n",
      "Code - Insiders\n",
      "CodeSetup-insider-cbd09078e6221fa1553c5a59dd25e63ad767911a\n",
      "CodeSetup-insider-cbd09078e6221fa1553c5a59dd25e63ad767911a.tmp\n",
      "CompPkgSrv\n",
      "conhost\n",
      "conhost\n",
      "csrss\n",
      "csrss\n",
      "ctfmon\n",
      "DDVCollectorSvcApi\n",
      "DDVDataCollector\n",
      "DDVRulesProcessor\n",
      "Dell.Insights.Agent\n",
      "Dell.Remediation.Agent\n",
      "dllhost\n",
      "dllhost\n",
      "dotnet\n",
      "dotnet\n",
      "dotnet\n",
      "dotnet\n",
      "Dsapi\n",
      "dwm\n",
      "explorer\n",
      "fontdrvhost\n",
      "fontdrvhost\n",
      "HxOutlook\n",
      "HxTsr\n",
      "Idle\n",
      "igfxCUIService\n",
      "igfxEM\n",
      "IntelCpHDCPSvc\n",
      "IntelCpHeciSvc\n",
      "jhi_service\n",
      "LockApp\n",
      "LsaIso\n",
      "lsass\n",
      "MakeMeAdminService\n",
      "Memory Compression\n",
      "Microsoft.Management.Services.IntuneWindowsAgent\n",
      "MoUsoCoreWorker\n",
      "msdtc\n",
      "msedge\n",
      "msedge\n",
      "msedge\n",
      "msedge\n",
      "msedge\n",
      "msedge\n",
      "msedge\n",
      "msedge\n",
      "msedge\n",
      "MsMpEng\n",
      "NisSrv\n",
      "NVDisplay.Container\n",
      "NVDisplay.Container\n",
      "OfficeClickToRun\n",
      "OneApp.IGCC.WinService\n",
      "PhoneExperienceHost\n",
      "Registry\n",
      "RstMwService\n",
      "RtkAudUService64\n",
      "RtkAudUService64\n",
      "RtkAudUService64\n",
      "RuntimeBroker\n",
      "RuntimeBroker\n",
      "RuntimeBroker\n",
      "RuntimeBroker\n",
      "RuntimeBroker\n",
      "RuntimeBroker\n",
      "SearchApp\n",
      "SearchFilterHost\n",
      "SearchIndexer\n",
      "SearchProtocolHost\n",
      "Secure System\n",
      "SecurityHealthService\n",
      "SecurityHealthSystray\n",
      "services\n",
      "ServiceShell\n",
      "SgrmBroker\n",
      "sihost\n",
      "smartscreen\n",
      "smss\n",
      "spoolsv\n",
      "StartMenuExperienceHost\n",
      "SupportAssistAgent\n",
      "svchost\n",
      "svchost\n",
      "svchost\n",
      "svchost\n",
      "svchost\n",
      "svchost\n",
      "svchost\n",
      "svchost\n",
      "svchost\n",
      "svchost\n",
      "svchost\n",
      "svchost\n",
      "svchost\n",
      "svchost\n",
      "svchost\n",
      "svchost\n",
      "svchost\n",
      "svchost\n",
      "svchost\n",
      "svchost\n",
      "svchost\n",
      "svchost\n",
      "svchost\n",
      "svchost\n",
      "svchost\n",
      "svchost\n",
      "svchost\n",
      "svchost\n",
      "svchost\n",
      "svchost\n",
      "svchost\n",
      "svchost\n",
      "svchost\n",
      "svchost\n",
      "svchost\n",
      "svchost\n",
      "svchost\n",
      "svchost\n",
      "svchost\n",
      "svchost\n",
      "svchost\n",
      "svchost\n",
      "svchost\n",
      "svchost\n",
      "svchost\n",
      "svchost\n",
      "svchost\n",
      "svchost\n",
      "svchost\n",
      "svchost\n",
      "svchost\n",
      "svchost\n",
      "svchost\n",
      "svchost\n",
      "svchost\n",
      "svchost\n",
      "svchost\n",
      "svchost\n",
      "svchost\n",
      "svchost\n",
      "svchost\n",
      "svchost\n",
      "svchost\n",
      "svchost\n",
      "svchost\n",
      "svchost\n",
      "svchost\n",
      "svchost\n",
      "svchost\n",
      "svchost\n",
      "svchost\n",
      "svchost\n",
      "svchost\n",
      "svchost\n",
      "svchost\n",
      "svchost\n",
      "svchost\n",
      "svchost\n",
      "svchost\n",
      "svchost\n",
      "svchost\n",
      "svchost\n",
      "svchost\n",
      "svchost\n",
      "System\n",
      "SystemSettings\n",
      "taskhostw\n",
      "Teams\n",
      "Teams\n",
      "Teams\n",
      "Teams\n",
      "Teams\n",
      "Teams\n",
      "Teams\n",
      "Teams\n",
      "Teams\n",
      "Teams\n",
      "TextInputHost\n",
      "uhssvc\n",
      "unsecapp\n",
      "UserOOBEBroker\n",
      "vmcompute\n",
      "vmmem\n",
      "vmnat\n",
      "vmnetdhcp\n",
      "vmware-authd\n",
      "vmware-tray\n",
      "vmware-usbarbitrator64\n",
      "WavesSvc64\n",
      "WavesSysSvc64\n",
      "wininit\n",
      "winlogon\n",
      "WmiPrvSE\n",
      "WmiPrvSE\n",
      "WMIRegistrationService\n",
      "WUDFHost\n"
     ]
    }
   ],
   "source": [
    "# Pipeline\n",
    "$Processes = Get-Process\n",
    "$Processes.GetType().Name\n",
    "$Processes[0].ProcessName\n",
    "#foreach ($Process in $Processes) {\n",
    " #   Write-Host $Process.ProcessName\n",
    "#}\n",
    "#$Process | ForEach-Object { Write-Host $_.ProcessName }\n",
    "#$Processes | % { $_.ProcessName }\n",
    "$Processes.ForEach({ $_.ProcessName })"
   ]
  },
  {
   "cell_type": "code",
   "execution_count": 2,
   "metadata": {
    "dotnet_interactive": {
     "language": "pwsh"
    },
    "polyglot_notebook": {
     "kernelName": "pwsh"
    }
   },
   "outputs": [
    {
     "name": "stdout",
     "output_type": "stream",
     "text": [
      "1 2 3 4 5\n",
      "1 2 3 4\n",
      "1 4\n",
      "2 3 4\n",
      "1 2 4\n"
     ]
    }
   ],
   "source": [
    "# Removing Items\n",
    "$Numbers = 1, 2, 3 ,4 ,5\n",
    "Write-Host $Numbers\n",
    "$Numbers = $Numbers[0..($Numbers.Length-2)]\n",
    "Write-Host $Numbers\n",
    "Write-Host $Numbers[0..-1] #Ddesn't Work\n",
    "Write-Host $Numbers[1..($Numbers.Length-1)]\n",
    "Write-Host $Numbers[0,1+3..($Numbers.Length-1)]"
   ]
  },
  {
   "cell_type": "code",
   "execution_count": 19,
   "metadata": {
    "dotnet_interactive": {
     "language": "pwsh"
    },
    "polyglot_notebook": {
     "kernelName": "pwsh"
    }
   },
   "outputs": [
    {
     "name": "stdout",
     "output_type": "stream",
     "text": [
      "x| |0|\n",
      "------\n",
      "x|0| |\n",
      "------\n",
      "0|0|x|\n",
      "------\n"
     ]
    }
   ],
   "source": [
    "# arrays in arrays (multidimensional arrays) \n",
    "#$TicTacToe = @(\n",
    "#    @('x', ' ', '0' ),\n",
    "#   @('x', '0', ' ' ),\n",
    "#    @(' ','0','x' )\n",
    "#)\n",
    "#for ($r=0; $r -lt $TicTacToe.Length; $r++) {\n",
    "#    for ($c = 0; $c -lt $TicTacToe[$r].Length; $c++) {\n",
    "#    Write-Host \"$($TicTacToe[$r][$c])|\"-NoNewline\n",
    "#   }\n",
    "#    Write-Host\n",
    "#    Write-Host ('-'*6)\n",
    "#}\n",
    "$TicTacToe[2][0] = \"x\"\n",
    "for ($r=0; $r -lt $TicTacToe.Length; $r++) {\n",
    "    for ($c = 0; $c -lt $TicTacToe[$r].Length; $c++) {\n",
    "    Write-Host \"$($TicTacToe[$r][$c])|\"-NoNewline\n",
    "    }\n",
    "    Write-Host\n",
    "    Write-Host ('-'*6)\n",
    "}\n",
    "\n"
   ]
  },
  {
   "cell_type": "code",
   "execution_count": 37,
   "metadata": {
    "dotnet_interactive": {
     "language": "pwsh"
    },
    "polyglot_notebook": {
     "kernelName": "pwsh"
    }
   },
   "outputs": [
    {
     "name": "stdout",
     "output_type": "stream",
     "text": [
      "a\n",
      "a\n",
      "a\n",
      "a\n"
     ]
    }
   ],
   "source": [
    "# array destructuring\n",
    "$Things = (Read-Host \"Name\"), (Read-Host \"Address\"), (Read-Host \"Employee #\"), (Read-Host \"Phone #\")\n",
    "$Things[0]\n",
    "$Things[1]\n",
    "$Things[2]\n",
    "$Things[3]\n",
    "$Name, $Address, $EmployeeNo, $PhoneNo = $Things\n"
   ]
  },
  {
   "cell_type": "code",
   "execution_count": 33,
   "metadata": {
    "dotnet_interactive": {
     "language": "pwsh"
    },
    "polyglot_notebook": {
     "kernelName": "pwsh"
    }
   },
   "outputs": [
    {
     "name": "stdout",
     "output_type": "stream",
     "text": [
      "\u001b[31;1mParserError: \u001b[0m\n",
      "\u001b[31;1m\u001b[36;1mLine |\u001b[0m\n",
      "\u001b[31;1m\u001b[36;1m\u001b[36;1m   6 | \u001b[0m $HomeFolder = [\u001b[36;1m-\u001b[0m1..-($HomeFolder.Length)]\u001b[0m\n",
      "\u001b[31;1m\u001b[36;1m\u001b[36;1m\u001b[0m\u001b[36;1m\u001b[0m\u001b[36;1m     | \u001b[31;1m                ~\u001b[0m\n",
      "\u001b[31;1m\u001b[36;1m\u001b[36;1m\u001b[0m\u001b[36;1m\u001b[0m\u001b[36;1m\u001b[31;1m\u001b[31;1m\u001b[36;1m     | \u001b[31;1mMissing type name after '['.\u001b[0m\n"
     ]
    }
   ],
   "source": [
    "# reverse the order of an array)\n",
    "$HomeFolder = (Get-ChildItem $HOME)\n",
    "$HomeFolder[0]\n",
    "$HomeFolder[$HomeFolder.Length-1]\n",
    "\"*\" * 100\n",
    "$HomeFolder = [-1..-($HomeFolder.Length)]\n",
    "$HomeFolder[0]\n",
    "$HomeFolder[$HomeFolder.Length-1]\n",
    "\"*\" * 100\n",
    "[Array]::Reverse($HomeFolder)"
   ]
  },
  {
   "cell_type": "code",
   "execution_count": 3,
   "metadata": {
    "dotnet_interactive": {
     "language": "pwsh"
    },
    "polyglot_notebook": {
     "kernelName": "pwsh"
    }
   },
   "outputs": [
    {
     "name": "stdout",
     "output_type": "stream",
     "text": [
      "String\n",
      "a\n",
      "Char\n",
      "$[0..2]\n",
      "Char[]\n"
     ]
    }
   ],
   "source": [
    "# Access Strings Like Arrays\n",
    "$Str = \"apple\"\n",
    "$Str.GetType().Name\n",
    "$Str[0]\n",
    "$Str[0].GetType().Name\n",
    "Write-Host $[0..2]\n",
    "Write-Host ([Char[]]$Str[0..2]).GetType().Name"
   ]
  },
  {
   "cell_type": "code",
   "execution_count": 13,
   "metadata": {
    "dotnet_interactive": {
     "language": "pwsh"
    },
    "polyglot_notebook": {
     "kernelName": "pwsh"
    }
   },
   "outputs": [
    {
     "name": "stdout",
     "output_type": "stream",
     "text": [
      "H|e|l|l|o\n",
      "String\n",
      "H|e|l|l|o\n"
     ]
    }
   ],
   "source": [
    "#Joining arrays of characters into Strings\n",
    "$Hello = \"Hello World\"\n",
    "$Str = $Hello[0..4] -Join '|'\n",
    "$Str\n",
    "$Str.GetType().Name\n",
    "[String]::Join('',$Str)"
   ]
  },
  {
   "cell_type": "code",
   "execution_count": 19,
   "metadata": {
    "dotnet_interactive": {
     "language": "pwsh"
    },
    "polyglot_notebook": {
     "kernelName": "pwsh"
    }
   },
   "outputs": [
    {
     "name": "stdout",
     "output_type": "stream",
     "text": [
      "H\n",
      "e\n",
      "l\n",
      "l\n",
      "o\n",
      " \n",
      "W\n",
      "o\n",
      "r\n",
      "l\n",
      "d\n",
      "H e l l o   W o r l d\n",
      "Hello\n",
      "World\n"
     ]
    }
   ],
   "source": [
    "# Convert Strings to arrays\n",
    "$Hello = \"Hello World\"\n",
    "$Hello[0..($Hello.Length-1)]\n",
    "Write-Host $Hello.ToCharArray()\n",
    "$Hello -split ' '"
   ]
  },
  {
   "cell_type": "code",
   "execution_count": 29,
   "metadata": {
    "dotnet_interactive": {
     "language": "pwsh"
    },
    "polyglot_notebook": {
     "kernelName": "pwsh"
    }
   },
   "outputs": [
    {
     "name": "stdout",
     "output_type": "stream",
     "text": [
      "John\n",
      "123 Somewhere Dr 902-555-1212\n"
     ]
    }
   ],
   "source": [
    "# More Splitting\n",
    "$Data = \"John 123 Somewhere Dr 902-555-1212\"\n",
    "$Data -split ' ',2"
   ]
  },
  {
   "cell_type": "code",
   "execution_count": null,
   "metadata": {
    "dotnet_interactive": {
     "language": "pwsh"
    },
    "polyglot_notebook": {
     "kernelName": "pwsh"
    }
   },
   "outputs": [],
   "source": [
    "# character array functions\n",
    "$Vampire = \"Vampire\"\n",
    "$Halloween = $Vampire.ToCharArray()\n",
    "$Halloween."
   ]
  },
  {
   "cell_type": "code",
   "execution_count": 12,
   "metadata": {
    "dotnet_interactive": {
     "language": "pwsh"
    },
    "polyglot_notebook": {
     "kernelName": "pwsh"
    }
   },
   "outputs": [
    {
     "name": "stdout",
     "output_type": "stream",
     "text": [
      "Vampire\n",
      "VAMPIRE\n"
     ]
    }
   ],
   "source": [
    "# character functions\n",
    "$Vampire = \"Vampire\"\n",
    "$Halloween = $Vampire.ToCharArray()\n",
    "if ([Char]::IsLetter($Halloween[0])) {\n",
    "$Halloween = ,[Char]::ToUpper($Halloween[0]) + $Halloween[1..($Halloween.Length-1)] \n",
    "$Halloween -join ''\n",
    "}\n",
    "$Vampire.ToUpper()"
   ]
  }
 ],
 "metadata": {
  "kernelspec": {
   "display_name": ".NET (C#)",
   "language": "C#",
   "name": ".net-csharp"
  },
  "language_info": {
   "name": "polyglot-notebook"
  },
  "polyglot_notebook": {
   "kernelInfo": {
    "defaultKernelName": "csharp",
    "items": [
     {
      "aliases": [],
      "name": "csharp"
     }
    ]
   }
  }
 },
 "nbformat": 4,
 "nbformat_minor": 2
}
